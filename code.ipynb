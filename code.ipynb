{
  "nbformat": 4,
  "nbformat_minor": 0,
  "metadata": {
    "colab": {
      "provenance": []
    },
    "kernelspec": {
      "name": "python3",
      "display_name": "Python 3"
    },
    "language_info": {
      "name": "python"
    }
  },
  "cells": [
    {
      "cell_type": "code",
      "execution_count": 1,
      "metadata": {
        "colab": {
          "base_uri": "https://localhost:8080/"
        },
        "id": "d0hCyOAZt0D9",
        "outputId": "17e7eb33-0114-44c3-efab-8706f4ccd6a5"
      },
      "outputs": [
        {
          "output_type": "stream",
          "name": "stdout",
          "text": [
            "Requirement already satisfied: pyspark in /usr/local/lib/python3.11/dist-packages (3.5.5)\n",
            "Requirement already satisfied: py4j==0.10.9.7 in /usr/local/lib/python3.11/dist-packages (from pyspark) (0.10.9.7)\n"
          ]
        }
      ],
      "source": [
        "!pip install pyspark"
      ]
    },
    {
      "cell_type": "code",
      "source": [
        "from pyspark.sql import SparkSession\n",
        "from pyspark.sql.functions import col, concat_ws, lit, when\n",
        "from pyspark.ml.feature import Tokenizer, StopWordsRemover, HashingTF, IDF, StringIndexer\n",
        "from pyspark.ml.classification import LogisticRegression\n",
        "from pyspark.ml.evaluation import MulticlassClassificationEvaluator\n",
        "import json"
      ],
      "metadata": {
        "id": "grQDgCb6uAZM"
      },
      "execution_count": 2,
      "outputs": []
    },
    {
      "cell_type": "code",
      "source": [
        "spark = SparkSession.builder.appName(\"SocialMediaBotDetection\").getOrCreate()"
      ],
      "metadata": {
        "id": "-CbL0daJuErS"
      },
      "execution_count": null,
      "outputs": []
    },
    {
      "cell_type": "code",
      "source": [
        "df_raw = spark.read.json(\"/content/TwiBot-20_sample.json\")\n",
        "df_raw.printSchema()\n"
      ],
      "metadata": {
        "id": "l884URhuuLB_"
      },
      "execution_count": null,
      "outputs": []
    },
    {
      "cell_type": "code",
      "source": [
        "df_raw.select('ID', 'domain', 'profile', 'tweet', 'neighbor').show(5)"
      ],
      "metadata": {
        "id": "VWPJMCjFuTgB"
      },
      "execution_count": null,
      "outputs": []
    },
    {
      "cell_type": "code",
      "source": [
        "df = df_raw.fillna(\"\")"
      ],
      "metadata": {
        "id": "xNGL-mQGuWBJ"
      },
      "execution_count": null,
      "outputs": []
    },
    {
      "cell_type": "code",
      "source": [
        "from pyspark.sql.functions import concat_ws, col\n",
        "\n",
        "df = df.withColumn(\n",
        "    \"combined_text\",\n",
        "    concat_ws(\" \",\n",
        "              col(\"profile.description\"),\n",
        "              col(\"profile.name\"),\n",
        "              concat_ws(\" \", col(\"tweet\"))  # flatten the array of tweet strings\n",
        "             )\n",
        ")"
      ],
      "metadata": {
        "id": "oP3ihpffuZ43"
      },
      "execution_count": null,
      "outputs": []
    },
    {
      "cell_type": "code",
      "source": [
        "df.select(\"profile.*\").printSchema()"
      ],
      "metadata": {
        "id": "ryYrpiTquc9q"
      },
      "execution_count": null,
      "outputs": []
    },
    {
      "cell_type": "code",
      "source": [
        "df = df.withColumn(\"followers_count_int\", col(\"profile.followers_count\").cast(\"int\"))"
      ],
      "metadata": {
        "id": "l-MUZJ5Dufv9"
      },
      "execution_count": null,
      "outputs": []
    },
    {
      "cell_type": "code",
      "source": [
        "df = df.withColumn(\n",
        "    \"label\",\n",
        "    when(col(\"profile.description\").contains(\"bot\") | (col(\"followers_count_int\") < 50), 1).otherwise(0)\n",
        ")"
      ],
      "metadata": {
        "id": "Nu6gQ6EUuj9M"
      },
      "execution_count": null,
      "outputs": []
    },
    {
      "cell_type": "code",
      "source": [
        "tokenizer = Tokenizer(inputCol=\"combined_text\", outputCol=\"words\")\n",
        "words_data = tokenizer.transform(df)"
      ],
      "metadata": {
        "id": "A9W8UQqdum9E"
      },
      "execution_count": null,
      "outputs": []
    },
    {
      "cell_type": "code",
      "source": [
        "remover = StopWordsRemover(inputCol=\"words\", outputCol=\"filtered\")\n",
        "filtered_data = remover.transform(words_data)"
      ],
      "metadata": {
        "id": "K6wHBsXXuq06"
      },
      "execution_count": null,
      "outputs": []
    },
    {
      "cell_type": "code",
      "source": [
        "hashingTF = HashingTF(inputCol=\"filtered\", outputCol=\"rawFeatures\", numFeatures=5000)\n",
        "featurized_data = hashingTF.transform(filtered_data)"
      ],
      "metadata": {
        "id": "80snQYCAut-5"
      },
      "execution_count": null,
      "outputs": []
    },
    {
      "cell_type": "code",
      "source": [
        "idf = IDF(inputCol=\"rawFeatures\", outputCol=\"features\")\n",
        "idf_model = idf.fit(featurized_data)\n",
        "rescaled_data = idf_model.transform(featurized_data)"
      ],
      "metadata": {
        "id": "uA8hrWo6uwh_"
      },
      "execution_count": null,
      "outputs": []
    },
    {
      "cell_type": "code",
      "source": [
        "final_data = rescaled_data.select(\"features\", \"label\")"
      ],
      "metadata": {
        "id": "VnHToZJPu5Av"
      },
      "execution_count": null,
      "outputs": []
    },
    {
      "cell_type": "code",
      "source": [
        "train_data, test_data = final_data.randomSplit([0.8, 0.2], seed=42)"
      ],
      "metadata": {
        "id": "qihmNsm8vE5P"
      },
      "execution_count": null,
      "outputs": []
    },
    {
      "cell_type": "code",
      "source": [
        "lr = LogisticRegression(featuresCol=\"features\", labelCol=\"label\")\n",
        "lr_model = lr.fit(train_data)"
      ],
      "metadata": {
        "id": "_TgUqBHBvRo8"
      },
      "execution_count": null,
      "outputs": []
    },
    {
      "cell_type": "code",
      "source": [
        "predictions = lr_model.transform(test_data)\n",
        "predictions.select(\"label\", \"prediction\", \"probability\").show(5)"
      ],
      "metadata": {
        "id": "evIdYquBvVCE"
      },
      "execution_count": null,
      "outputs": []
    },
    {
      "cell_type": "code",
      "source": [
        "evaluator = MulticlassClassificationEvaluator(labelCol=\"label\", predictionCol=\"prediction\", metricName=\"accuracy\")\n",
        "accuracy = evaluator.evaluate(predictions)\n",
        "print(f\"Test Accuracy: {accuracy:.4f}\")"
      ],
      "metadata": {
        "id": "zZkTbc5Bvs96"
      },
      "execution_count": null,
      "outputs": []
    },
    {
      "cell_type": "code",
      "source": [
        "from pyspark.sql import SparkSession\n",
        "from pyspark.sql.functions import col, concat_ws, when, length\n",
        "from pyspark.ml.feature import Tokenizer, StopWordsRemover, Word2Vec\n",
        "from pyspark.ml.classification import LogisticRegression, RandomForestClassifier, GBTClassifier\n",
        "from pyspark.ml import Pipeline\n",
        "from pyspark.ml.evaluation import MulticlassClassificationEvaluator\n",
        "from pyspark.ml.tuning import CrossValidator, ParamGridBuilder\n",
        "\n",
        "# Initialize Spark Session\n",
        "spark = SparkSession.builder.appName(\"AdvancedBotDetection\").getOrCreate()\n",
        "\n",
        "# Load Data\n",
        "df = spark.read.json(\"/content/TwiBot-20_sample.json\")\n",
        "df = df.fillna(\"\")"
      ],
      "metadata": {
        "id": "Rwa2legdvu_x"
      },
      "execution_count": null,
      "outputs": []
    },
    {
      "cell_type": "code",
      "source": [
        "from pyspark.sql.functions import concat_ws, col\n",
        "\n",
        "df = df.withColumn(\n",
        "    \"combined_text\",\n",
        "    concat_ws(\" \",\n",
        "              col(\"profile.description\"),\n",
        "              col(\"profile.name\"),\n",
        "              concat_ws(\" \", col(\"tweet\"))  # flatten the array of tweet strings\n",
        "             )\n",
        ")"
      ],
      "metadata": {
        "id": "JJajrpLVwdy7"
      },
      "execution_count": null,
      "outputs": []
    },
    {
      "cell_type": "code",
      "source": [
        "df = df.withColumn(\"followers_count_int\", col(\"profile.followers_count\").cast(\"int\"))\n",
        "df = df.withColumn(\n",
        "    \"label\",\n",
        "    when(col(\"profile.description\").contains(\"bot\") | (col(\"followers_count_int\") < 50), 1).otherwise(0)\n",
        ")"
      ],
      "metadata": {
        "id": "pdHiCma1wheP"
      },
      "execution_count": null,
      "outputs": []
    },
    {
      "cell_type": "code",
      "source": [
        "df.select(\"label\").groupBy(\"label\").count().show()\n",
        "df = df.withColumn(\"text_length\", length(\"combined_text\"))"
      ],
      "metadata": {
        "id": "TRVeAFJRwntA"
      },
      "execution_count": null,
      "outputs": []
    },
    {
      "cell_type": "code",
      "source": [
        "tokenizer = Tokenizer(inputCol=\"combined_text\", outputCol=\"tokens\")\n",
        "remover = StopWordsRemover(inputCol=\"tokens\", outputCol=\"filtered_tokens\")"
      ],
      "metadata": {
        "id": "P6lYsbkMwpvd"
      },
      "execution_count": null,
      "outputs": []
    },
    {
      "cell_type": "code",
      "source": [
        "word2vec = Word2Vec(vectorSize=100, minCount=2, inputCol=\"filtered_tokens\", outputCol=\"features\")"
      ],
      "metadata": {
        "id": "4ON4gA20wtlL"
      },
      "execution_count": null,
      "outputs": []
    },
    {
      "cell_type": "code",
      "source": [
        "lr = LogisticRegression(featuresCol=\"features\", labelCol=\"label\")\n",
        "rf = RandomForestClassifier(featuresCol=\"features\", labelCol=\"label\")\n",
        "gbt = GBTClassifier(featuresCol=\"features\", labelCol=\"label\")"
      ],
      "metadata": {
        "id": "nFVAqwq-wwP5"
      },
      "execution_count": null,
      "outputs": []
    },
    {
      "cell_type": "code",
      "source": [
        "pipeline = Pipeline(stages=[tokenizer, remover, word2vec, lr])"
      ],
      "metadata": {
        "id": "lnRuK8pAw28M"
      },
      "execution_count": null,
      "outputs": []
    },
    {
      "cell_type": "code",
      "source": [
        "train, test = df.randomSplit([0.8, 0.2], seed=42)"
      ],
      "metadata": {
        "id": "ySV4Meltw873"
      },
      "execution_count": null,
      "outputs": []
    },
    {
      "cell_type": "code",
      "source": [
        "paramGrid = ParamGridBuilder().addGrid(word2vec.vectorSize, [50, 100]).addGrid(lr.regParam, [0.01, 0.1]).build()"
      ],
      "metadata": {
        "id": "MjojfcXOxHfY"
      },
      "execution_count": null,
      "outputs": []
    },
    {
      "cell_type": "code",
      "source": [
        "evaluator = MulticlassClassificationEvaluator(labelCol=\"label\", predictionCol=\"prediction\", metricName=\"f1\")"
      ],
      "metadata": {
        "id": "ICTvlYcBziaO"
      },
      "execution_count": null,
      "outputs": []
    },
    {
      "cell_type": "code",
      "source": [
        "crossval = CrossValidator(estimator=pipeline,\n",
        "                          estimatorParamMaps=paramGrid,\n",
        "                          evaluator=evaluator,\n",
        "                          numFolds=3)"
      ],
      "metadata": {
        "id": "eruHAoQ4zi94"
      },
      "execution_count": null,
      "outputs": []
    },
    {
      "cell_type": "code",
      "source": [
        "cv_model = crossval.fit(train)\n",
        "predictions = cv_model.transform(test)"
      ],
      "metadata": {
        "id": "ql6OjC-2zk_S"
      },
      "execution_count": null,
      "outputs": []
    },
    {
      "cell_type": "code",
      "source": [
        "accuracy = evaluator.evaluate(predictions)\n",
        "print(f\"Optimized Model F1 Score: {accuracy:.4f}\")\n",
        "predictions.select(\"label\", \"prediction\").groupBy(\"label\", \"prediction\").count().show()"
      ],
      "metadata": {
        "id": "-etl6cUDzoZM"
      },
      "execution_count": null,
      "outputs": []
    },
    {
      "cell_type": "code",
      "source": [
        "def evaluate_model(classifier, name):\n",
        "    pipe = Pipeline(stages=[tokenizer, remover, word2vec, classifier])\n",
        "    model = pipe.fit(train)\n",
        "    pred = model.transform(test)\n",
        "    score = evaluator.evaluate(pred)\n",
        "    print(f\"{name} F1 Score: {score:.4f}\")"
      ],
      "metadata": {
        "id": "1f5PPAXv08Tn"
      },
      "execution_count": null,
      "outputs": []
    },
    {
      "cell_type": "code",
      "source": [
        "evaluate_model(rf, \"Random Forest\")\n",
        "evaluate_model(gbt, \"Gradient Boosted Trees\")"
      ],
      "metadata": {
        "id": "eC-Jaxy208za"
      },
      "execution_count": null,
      "outputs": []
    },
    {
      "cell_type": "code",
      "source": [
        "cv_model.bestModel.write().overwrite().save(\"best_bot_detector_model\")"
      ],
      "metadata": {
        "id": "aoDI_78kytG8"
      },
      "execution_count": null,
      "outputs": []
    },
    {
      "cell_type": "code",
      "source": [
        "model = PipelineModel.load(\"best_bot_detector_model\")"
      ],
      "metadata": {
        "id": "_CqN7Bljz-FO"
      },
      "execution_count": null,
      "outputs": []
    },
    {
      "cell_type": "code",
      "source": [
        "!zip -r best_bot_detector_model.zip /content/best_bot_detector_model\n"
      ],
      "metadata": {
        "id": "RGUNLjxS-agX"
      },
      "execution_count": null,
      "outputs": []
    },
    {
      "cell_type": "code",
      "source": [
        "from google.colab import files\n",
        "files.download(\"best_bot_detector_model.zip\")\n"
      ],
      "metadata": {
        "colab": {
          "base_uri": "https://localhost:8080/",
          "height": 17
        },
        "id": "7Be4Qoq4kf5S",
        "outputId": "e739ee57-2a7d-4a34-fecf-2d7a115b9216"
      },
      "execution_count": 45,
      "outputs": [
        {
          "output_type": "display_data",
          "data": {
            "text/plain": [
              "<IPython.core.display.Javascript object>"
            ],
            "application/javascript": [
              "\n",
              "    async function download(id, filename, size) {\n",
              "      if (!google.colab.kernel.accessAllowed) {\n",
              "        return;\n",
              "      }\n",
              "      const div = document.createElement('div');\n",
              "      const label = document.createElement('label');\n",
              "      label.textContent = `Downloading \"${filename}\": `;\n",
              "      div.appendChild(label);\n",
              "      const progress = document.createElement('progress');\n",
              "      progress.max = size;\n",
              "      div.appendChild(progress);\n",
              "      document.body.appendChild(div);\n",
              "\n",
              "      const buffers = [];\n",
              "      let downloaded = 0;\n",
              "\n",
              "      const channel = await google.colab.kernel.comms.open(id);\n",
              "      // Send a message to notify the kernel that we're ready.\n",
              "      channel.send({})\n",
              "\n",
              "      for await (const message of channel.messages) {\n",
              "        // Send a message to notify the kernel that we're ready.\n",
              "        channel.send({})\n",
              "        if (message.buffers) {\n",
              "          for (const buffer of message.buffers) {\n",
              "            buffers.push(buffer);\n",
              "            downloaded += buffer.byteLength;\n",
              "            progress.value = downloaded;\n",
              "          }\n",
              "        }\n",
              "      }\n",
              "      const blob = new Blob(buffers, {type: 'application/binary'});\n",
              "      const a = document.createElement('a');\n",
              "      a.href = window.URL.createObjectURL(blob);\n",
              "      a.download = filename;\n",
              "      div.appendChild(a);\n",
              "      a.click();\n",
              "      div.remove();\n",
              "    }\n",
              "  "
            ]
          },
          "metadata": {}
        },
        {
          "output_type": "display_data",
          "data": {
            "text/plain": [
              "<IPython.core.display.Javascript object>"
            ],
            "application/javascript": [
              "download(\"download_dbd957cb-49e3-4497-a5c5-db356a12da02\", \"best_bot_detector_model.zip\", 3530543)"
            ]
          },
          "metadata": {}
        }
      ]
    }
  ]
}